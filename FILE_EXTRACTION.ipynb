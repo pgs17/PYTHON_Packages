{
  "cells": [
    {
      "cell_type": "markdown",
      "metadata": {
        "id": "view-in-github",
        "colab_type": "text"
      },
      "source": [
        "<a href=\"https://colab.research.google.com/github/pgs17/PYTHON_Packages/blob/master/FILE_EXTRACTION.ipynb\" target=\"_parent\"><img src=\"https://colab.research.google.com/assets/colab-badge.svg\" alt=\"Open In Colab\"/></a>"
      ]
    },
    {
      "cell_type": "markdown",
      "id": "aeae54b7",
      "metadata": {
        "id": "aeae54b7"
      },
      "source": [
        "#### For Pdf Handling we will use pypdf2 and pandas to convert the obtained text into dataframes\n",
        " "
      ]
    },
    {
      "cell_type": "code",
      "execution_count": null,
      "id": "774394bd",
      "metadata": {
        "id": "774394bd",
        "outputId": "64f21051-9d95-445b-c65e-2ca9f55b2f0d"
      },
      "outputs": [
        {
          "name": "stdout",
          "output_type": "stream",
          "text": [
            "Requirement already satisfied: PyPDF2 in c:\\users\\saran\\anaconda3\\lib\\site-packages (3.0.1)\n",
            "Note: you may need to restart the kernel to use updated packages.\n"
          ]
        }
      ],
      "source": [
        "pip install PyPDF2"
      ]
    },
    {
      "cell_type": "code",
      "execution_count": null,
      "id": "32404b70",
      "metadata": {
        "id": "32404b70"
      },
      "outputs": [],
      "source": [
        "import pandas as pd\n",
        "import PyPDF2 as f\n",
        "import re"
      ]
    },
    {
      "cell_type": "code",
      "execution_count": null,
      "id": "6d8d2cac",
      "metadata": {
        "id": "6d8d2cac"
      },
      "outputs": [],
      "source": [
        "# Function for getting the text from file and adding it to the dataframe \n",
        "def getText(path):\n",
        "    with open(path,'rb') as file:\n",
        "        # need to find proper regex expression for splitting the paragraphs\n",
        "        pattern = re.compile(r\"\\n\\n\")\n",
        "        pdf_read=f.PdfReader(file)\n",
        "        pages=pdf_read.pages\n",
        "        for page_number in range(len(pages)):\n",
        "            Pages=pdf_read.pages[page_number]\n",
        "            text=Pages.extract_text()\n",
        "            paragraphs=pattern.split(text)\n",
        "        df = pd.DataFrame(columns=['pdf name', 'page number', 'paragraph number', 'extracted text']) \n",
        "        for paragraph_number,paragraph in enumerate(paragraphs):\n",
        "            df=df.append({\n",
        "                'pdf name':path,\n",
        "                'page number': page_number+1,\n",
        "                'paragraph number': paragraph_number+1,\n",
        "                'extracted text': paragraphs\n",
        "        },ignore_index=True)\n",
        "    file.close()\n",
        "    return df"
      ]
    },
    {
      "cell_type": "code",
      "execution_count": null,
      "id": "643dd724",
      "metadata": {
        "id": "643dd724",
        "outputId": "3e135bd3-b4f2-491f-c2e4-e1e0be951e18"
      },
      "outputs": [
        {
          "name": "stderr",
          "output_type": "stream",
          "text": [
            "C:\\Users\\saran\\AppData\\Local\\Temp\\ipykernel_21432\\3045181931.py:14: FutureWarning: The frame.append method is deprecated and will be removed from pandas in a future version. Use pandas.concat instead.\n",
            "  df=df.append({\n"
          ]
        }
      ],
      "source": [
        " path=r\"C:\\Users\\saran\\OneDrive\\Documents\\TEMP1.pdf\"\n",
        "df1=getText(path)\n",
        "df1.to_csv(r\"C:\\Users\\saran\\OneDrive\\Documents\\TEMP1.csv\")"
      ]
    },
    {
      "cell_type": "code",
      "execution_count": null,
      "id": "b057df27",
      "metadata": {
        "id": "b057df27"
      },
      "outputs": [],
      "source": []
    }
  ],
  "metadata": {
    "kernelspec": {
      "display_name": "Python 3 (ipykernel)",
      "language": "python",
      "name": "python3"
    },
    "language_info": {
      "codemirror_mode": {
        "name": "ipython",
        "version": 3
      },
      "file_extension": ".py",
      "mimetype": "text/x-python",
      "name": "python",
      "nbconvert_exporter": "python",
      "pygments_lexer": "ipython3",
      "version": "3.10.9"
    },
    "colab": {
      "provenance": [],
      "include_colab_link": true
    }
  },
  "nbformat": 4,
  "nbformat_minor": 5
}